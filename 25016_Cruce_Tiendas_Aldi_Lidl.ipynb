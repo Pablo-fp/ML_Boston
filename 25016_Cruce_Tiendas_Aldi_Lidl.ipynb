{
  "nbformat": 4,
  "nbformat_minor": 0,
  "metadata": {
    "colab": {
      "provenance": [],
      "authorship_tag": "ABX9TyOmq85UPc9C8s5WCvbsqyVh",
      "include_colab_link": true
    },
    "kernelspec": {
      "name": "python3",
      "display_name": "Python 3"
    },
    "language_info": {
      "name": "python"
    }
  },
  "cells": [
    {
      "cell_type": "markdown",
      "metadata": {
        "id": "view-in-github",
        "colab_type": "text"
      },
      "source": [
        "<a href=\"https://colab.research.google.com/github/Pablo-fp/ML_Boston/blob/master/25016_Cruce_Tiendas_Aldi_Lidl.ipynb\" target=\"_parent\"><img src=\"https://colab.research.google.com/assets/colab-badge.svg\" alt=\"Open In Colab\"/></a>"
      ]
    },
    {
      "cell_type": "markdown",
      "source": [
        "Paso 1: Instalación de dependencias"
      ],
      "metadata": {
        "id": "anQoMpj8dCkg"
      }
    },
    {
      "cell_type": "code",
      "source": [
        "!pip install geopy"
      ],
      "metadata": {
        "colab": {
          "base_uri": "https://localhost:8080/"
        },
        "id": "q_LOguU6dkN8",
        "outputId": "bf7c043e-76ea-4744-af74-e7ee169b2711"
      },
      "execution_count": null,
      "outputs": [
        {
          "output_type": "stream",
          "name": "stdout",
          "text": [
            "Requirement already satisfied: geopy in /usr/local/lib/python3.11/dist-packages (2.4.1)\n",
            "Requirement already satisfied: geographiclib<3,>=1.52 in /usr/local/lib/python3.11/dist-packages (from geopy) (2.0)\n"
          ]
        }
      ]
    },
    {
      "cell_type": "markdown",
      "source": [
        "Paso 2: Importar librerías necesarias"
      ],
      "metadata": {
        "id": "b82Mlq1YdmOF"
      }
    },
    {
      "cell_type": "code",
      "source": [
        "import pandas as pd\n",
        "from geopy.distance import great_circle"
      ],
      "metadata": {
        "id": "SoOshk0edpW0"
      },
      "execution_count": null,
      "outputs": []
    },
    {
      "cell_type": "markdown",
      "source": [
        "Paso 3: Crear DataFrames"
      ],
      "metadata": {
        "id": "1KamUcNAdrhD"
      }
    },
    {
      "cell_type": "code",
      "source": [
        "lidl_df = pd.read_excel(\"LIDL.xlsx\")\n",
        "aldi_df = pd.read_excel(\"ALDI.xlsx\")"
      ],
      "metadata": {
        "id": "OUij_Q-ulAip"
      },
      "execution_count": null,
      "outputs": []
    },
    {
      "cell_type": "markdown",
      "source": [
        "Paso 4: Definir la función para calcular la distancia"
      ],
      "metadata": {
        "id": "un7MteqMdy4N"
      }
    },
    {
      "cell_type": "code",
      "source": [
        "def encontrar_tiendas_cercanas_con_lidl(aldi_df, lidl_df, distancia_maxima_metros=300):\n",
        "    tiendas_con_lidl = []\n",
        "\n",
        "    for _, aldi_row in aldi_df.iterrows():\n",
        "        aldi_coords = (aldi_row['Latitud'], aldi_row['Longitud'])\n",
        "\n",
        "        for _, lidl_row in lidl_df.iterrows():\n",
        "            lidl_coords = (lidl_row['Latitud'], lidl_row['Longitud'])\n",
        "\n",
        "            # Calcular la distancia en metros\n",
        "            distancia = great_circle(aldi_coords, lidl_coords).meters\n",
        "\n",
        "            if distancia < distancia_maxima_metros:\n",
        "                tiendas_con_lidl.append(aldi_row['Codigo'])\n",
        "                break  # Romper si ya se encontró una tienda Lidl cercana\n",
        "\n",
        "    return tiendas_con_lidl"
      ],
      "metadata": {
        "id": "aM60nSSed1Ff"
      },
      "execution_count": null,
      "outputs": []
    },
    {
      "cell_type": "markdown",
      "source": [
        "Paso 5: Ejecutar la función y mostrar los resultados"
      ],
      "metadata": {
        "id": "C9p65J67mUhd"
      }
    },
    {
      "cell_type": "code",
      "source": [
        "resultado = encontrar_tiendas_cercanas_con_lidl(aldi_df, lidl_df)\n",
        "print(\"Tiendas ALDI con LIDL a menos de 300 metros:\", resultado)\n",
        "print(\"Número de tiendas ALDI cercanas a LIDL:\", len(resultado))"
      ],
      "metadata": {
        "colab": {
          "base_uri": "https://localhost:8080/"
        },
        "id": "HxJdWWkdd4wS",
        "outputId": "643a698c-3812-4fb5-f48d-9cac22f5f80a"
      },
      "execution_count": null,
      "outputs": [
        {
          "output_type": "stream",
          "name": "stdout",
          "text": [
            "Tiendas ALDI con LIDL a menos de 300 metros: ['CAN1', 'CAN4', 'CAN6', 'CAN9', 'CAN10', 'CAN18', 'CAN19', 'DOS5', 'DOS21', 'DOS23', 'DOS34', 'DOS44', 'DOS48', 'DOS65', 'DOS67', 'DOS70', 'DOS72', 'DOS80', 'DOS103', 'DOS136', 'DOS143', 'DOS145', 'DOS158', 'DOS190', 'MAS16', 'MAS20', 'MAS22', 'MAS27', 'MAS35', 'MAS40', 'MAS41', 'MAS66', 'MAS71', 'MAS73', 'MAS74', 'MAS77', 'MAS80', 'MAS85', 'MAS89', 'MAS94', 'MAS103', 'MAS122', 'MAS128', 'MAS138', 'MAS140', 'MAS194', 'PIN1', 'PIN39', 'PIN57', 'MIR72', 'MIR90', 'PIN94', 'MIR96', 'PIN116', 'MIR118', 'PIN125', 'MIR170', 'PIN209', 'MIR2', 'MIR20', 'MIR22', 'MIR28', 'MIR30', 'MIR42', 'MIR75', 'MIR83', 'PIN144', 'MIR179', 'MIR224', 'SAG8', 'SAG11', 'SAG45', 'SAG46', 'SAG47', 'SAG52', 'SAG55', 'SAG59', 'SAG149', 'SAG191', 'SAG80', 'SIS12', 'SIS16', 'SIS25', 'SIS33', 'SIS36', 'SIS41', 'SIS43', 'SIS52', 'SIS125', 'SIS199', 'SIS222']\n",
            "Número de tiendas ALDI cercanas a LIDL: 91\n"
          ]
        }
      ]
    },
    {
      "cell_type": "markdown",
      "source": [],
      "metadata": {
        "id": "gsXn71ggdAXs"
      }
    }
  ]
}